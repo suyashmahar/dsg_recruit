{
 "cells": [
  {
   "cell_type": "code",
   "execution_count": 178,
   "metadata": {
    "collapsed": false
   },
   "outputs": [],
   "source": [
    "from __future__ import division\n",
    "\n",
    "import matplotlib.pyplot as plt\n",
    "import pandas as pd\n",
    "import numpy as np\n",
    "import random\n",
    "from sklearn.model_selection import train_test_split\n",
    "from sklearn.decomposition import PCA\n",
    "#from treeinterpreter import treeinterpreter as ti\n",
    "from sklearn.tree import DecisionTreeRegressor\n",
    "from sklearn.ensemble import RandomForestRegressor\n",
    "import numpy as np\n",
    " \n",
    "from sklearn.datasets import load_boston\n",
    "import seaborn as sns"
   ]
  },
  {
   "cell_type": "code",
   "execution_count": 179,
   "metadata": {
    "collapsed": true
   },
   "outputs": [],
   "source": [
    "train_ds = \"mushroom_train.csv\"\n",
    "test_ds = \"mushroom_test.csv\""
   ]
  },
  {
   "cell_type": "code",
   "execution_count": 180,
   "metadata": {
    "collapsed": true
   },
   "outputs": [],
   "source": [
    "data = pd.read_csv(train_ds)"
   ]
  },
  {
   "cell_type": "code",
   "execution_count": 181,
   "metadata": {
    "collapsed": true
   },
   "outputs": [],
   "source": [
    "data.rename(columns=lambda x: x.replace('-', '_'), inplace=True) # Rename labels to work\n",
    "data = data.replace({'?': np.NaN}, regex=False);\n",
    "data = data.dropna(thresh=0.7*len(data), axis=1)"
   ]
  },
  {
   "cell_type": "code",
   "execution_count": 182,
   "metadata": {
    "collapsed": false,
    "scrolled": false
   },
   "outputs": [
    {
     "name": "stdout",
     "output_type": "stream",
     "text": [
      "class                       object\n",
      "cap_shape                   object\n",
      "cap_surface                 object\n",
      "cap_color                   object\n",
      "bruises                     object\n",
      "odor                        object\n",
      "gill_attachment             object\n",
      "gill_spacing                object\n",
      "gill_size                   object\n",
      "gill_color                  object\n",
      "stalk_shape                 object\n",
      "radius                       int64\n",
      "stalk_surface_above_ring    object\n",
      "stalk_surface_below_ring    object\n",
      "stalk_color_above_ring      object\n",
      "stalk_color_below_ring      object\n",
      "veil_type                   object\n",
      "veil_color                  object\n",
      "weight                       int64\n",
      "ring_number                 object\n",
      "ring_type                   object\n",
      "spore_print_color           object\n",
      "population                  object\n",
      "habitat                     object\n",
      "dtype: object\n"
     ]
    }
   ],
   "source": [
    "data.head()\n",
    "print data.dtypes"
   ]
  },
  {
   "cell_type": "code",
   "execution_count": 183,
   "metadata": {
    "collapsed": false
   },
   "outputs": [
    {
     "name": "stderr",
     "output_type": "stream",
     "text": [
      "/home/suyash/app/anaconda2/lib/python2.7/site-packages/ipykernel/__main__.py:7: SettingWithCopyWarning: \n",
      "A value is trying to be set on a copy of a slice from a DataFrame\n",
      "\n",
      "See the caveats in the documentation: http://pandas.pydata.org/pandas-docs/stable/indexing.html#indexing-view-versus-copy\n",
      "/home/suyash/app/anaconda2/lib/python2.7/site-packages/ipykernel/__main__.py:8: SettingWithCopyWarning: \n",
      "A value is trying to be set on a copy of a slice from a DataFrame\n",
      "\n",
      "See the caveats in the documentation: http://pandas.pydata.org/pandas-docs/stable/indexing.html#indexing-view-versus-copy\n"
     ]
    },
    {
     "data": {
      "text/html": [
       "<div>\n",
       "<table border=\"1\" class=\"dataframe\">\n",
       "  <thead>\n",
       "    <tr style=\"text-align: right;\">\n",
       "      <th></th>\n",
       "      <th>class</th>\n",
       "      <th>cap_shape</th>\n",
       "      <th>cap_surface</th>\n",
       "      <th>cap_color</th>\n",
       "      <th>bruises</th>\n",
       "      <th>odor</th>\n",
       "      <th>gill_attachment</th>\n",
       "      <th>gill_spacing</th>\n",
       "      <th>gill_size</th>\n",
       "      <th>gill_color</th>\n",
       "      <th>...</th>\n",
       "      <th>stalk_color_above_ring</th>\n",
       "      <th>stalk_color_below_ring</th>\n",
       "      <th>veil_type</th>\n",
       "      <th>veil_color</th>\n",
       "      <th>weight</th>\n",
       "      <th>ring_number</th>\n",
       "      <th>ring_type</th>\n",
       "      <th>spore_print_color</th>\n",
       "      <th>population</th>\n",
       "      <th>habitat</th>\n",
       "    </tr>\n",
       "  </thead>\n",
       "  <tbody>\n",
       "    <tr>\n",
       "      <th>0</th>\n",
       "      <td>1</td>\n",
       "      <td>f</td>\n",
       "      <td>s</td>\n",
       "      <td>e</td>\n",
       "      <td>f</td>\n",
       "      <td>s</td>\n",
       "      <td>f</td>\n",
       "      <td>c</td>\n",
       "      <td>n</td>\n",
       "      <td>b</td>\n",
       "      <td>...</td>\n",
       "      <td>p</td>\n",
       "      <td>w</td>\n",
       "      <td>p</td>\n",
       "      <td>w</td>\n",
       "      <td>38</td>\n",
       "      <td>o</td>\n",
       "      <td>e</td>\n",
       "      <td>w</td>\n",
       "      <td>v</td>\n",
       "      <td>l</td>\n",
       "    </tr>\n",
       "    <tr>\n",
       "      <th>1</th>\n",
       "      <td>1</td>\n",
       "      <td>x</td>\n",
       "      <td>y</td>\n",
       "      <td>w</td>\n",
       "      <td>t</td>\n",
       "      <td>p</td>\n",
       "      <td>f</td>\n",
       "      <td>c</td>\n",
       "      <td>n</td>\n",
       "      <td>k</td>\n",
       "      <td>...</td>\n",
       "      <td>w</td>\n",
       "      <td>w</td>\n",
       "      <td>p</td>\n",
       "      <td>w</td>\n",
       "      <td>43</td>\n",
       "      <td>o</td>\n",
       "      <td>p</td>\n",
       "      <td>n</td>\n",
       "      <td>v</td>\n",
       "      <td>u</td>\n",
       "    </tr>\n",
       "    <tr>\n",
       "      <th>2</th>\n",
       "      <td>0</td>\n",
       "      <td>f</td>\n",
       "      <td>s</td>\n",
       "      <td>n</td>\n",
       "      <td>t</td>\n",
       "      <td>n</td>\n",
       "      <td>f</td>\n",
       "      <td>c</td>\n",
       "      <td>b</td>\n",
       "      <td>e</td>\n",
       "      <td>...</td>\n",
       "      <td>e</td>\n",
       "      <td>e</td>\n",
       "      <td>p</td>\n",
       "      <td>w</td>\n",
       "      <td>37</td>\n",
       "      <td>t</td>\n",
       "      <td>e</td>\n",
       "      <td>w</td>\n",
       "      <td>c</td>\n",
       "      <td>w</td>\n",
       "    </tr>\n",
       "    <tr>\n",
       "      <th>3</th>\n",
       "      <td>1</td>\n",
       "      <td>x</td>\n",
       "      <td>s</td>\n",
       "      <td>e</td>\n",
       "      <td>f</td>\n",
       "      <td>y</td>\n",
       "      <td>f</td>\n",
       "      <td>c</td>\n",
       "      <td>n</td>\n",
       "      <td>b</td>\n",
       "      <td>...</td>\n",
       "      <td>p</td>\n",
       "      <td>w</td>\n",
       "      <td>p</td>\n",
       "      <td>w</td>\n",
       "      <td>82</td>\n",
       "      <td>o</td>\n",
       "      <td>e</td>\n",
       "      <td>w</td>\n",
       "      <td>v</td>\n",
       "      <td>l</td>\n",
       "    </tr>\n",
       "    <tr>\n",
       "      <th>4</th>\n",
       "      <td>0</td>\n",
       "      <td>x</td>\n",
       "      <td>s</td>\n",
       "      <td>w</td>\n",
       "      <td>t</td>\n",
       "      <td>l</td>\n",
       "      <td>f</td>\n",
       "      <td>c</td>\n",
       "      <td>b</td>\n",
       "      <td>n</td>\n",
       "      <td>...</td>\n",
       "      <td>w</td>\n",
       "      <td>w</td>\n",
       "      <td>p</td>\n",
       "      <td>w</td>\n",
       "      <td>36</td>\n",
       "      <td>o</td>\n",
       "      <td>p</td>\n",
       "      <td>n</td>\n",
       "      <td>s</td>\n",
       "      <td>m</td>\n",
       "    </tr>\n",
       "  </tbody>\n",
       "</table>\n",
       "<p>5 rows × 24 columns</p>\n",
       "</div>"
      ],
      "text/plain": [
       "  class cap_shape cap_surface cap_color bruises odor gill_attachment  \\\n",
       "0     1         f           s         e       f    s               f   \n",
       "1     1         x           y         w       t    p               f   \n",
       "2     0         f           s         n       t    n               f   \n",
       "3     1         x           s         e       f    y               f   \n",
       "4     0         x           s         w       t    l               f   \n",
       "\n",
       "  gill_spacing gill_size gill_color   ...   stalk_color_above_ring  \\\n",
       "0            c         n          b   ...                        p   \n",
       "1            c         n          k   ...                        w   \n",
       "2            c         b          e   ...                        e   \n",
       "3            c         n          b   ...                        p   \n",
       "4            c         b          n   ...                        w   \n",
       "\n",
       "   stalk_color_below_ring veil_type veil_color weight ring_number ring_type  \\\n",
       "0                       w         p          w     38           o         e   \n",
       "1                       w         p          w     43           o         p   \n",
       "2                       e         p          w     37           t         e   \n",
       "3                       w         p          w     82           o         e   \n",
       "4                       w         p          w     36           o         p   \n",
       "\n",
       "  spore_print_color  population habitat  \n",
       "0                 w           v       l  \n",
       "1                 n           v       u  \n",
       "2                 w           c       w  \n",
       "3                 w           v       l  \n",
       "4                 n           s       m  \n",
       "\n",
       "[5 rows x 24 columns]"
      ]
     },
     "execution_count": 183,
     "metadata": {},
     "output_type": "execute_result"
    }
   ],
   "source": [
    "X_vis = data.drop(\"class\",axis=1)\n",
    "y_vis = pd.get_dummies(data)['class_p']\n",
    "data_vis = data.copy()\n",
    "#data_vis[\"class\"] = data_vis[\"class\"].rename(columns=lambda x: x.replace('p', '1'), inplace=True)\n",
    "#data_vis[\"class\"] = data_vis[\"class\"].rename(columns=lambda x: x.replace('e', '0'), inplace=True)\n",
    "\n",
    "data_vis[\"class\"][data_vis[\"class\"] == \"p\"] = 1\n",
    "data_vis[\"class\"][data_vis[\"class\"] == \"e\"] = 0\n",
    "    \n",
    "data_vis.head()"
   ]
  },
  {
   "cell_type": "code",
   "execution_count": null,
   "metadata": {
    "collapsed": false,
    "scrolled": true
   },
   "outputs": [],
   "source": [
    "var = data_vis.groupby(['cap_shape'])[\"class\"].sum()\n",
    "print var\n",
    "var.plot(kind='bar',stacked=True,  color=['red','blue'], grid=False)\n",
    "\n",
    "data_to_plot = []\n",
    "for col in data_vis.columns:\n",
    "    category_count_arr = list(range(len(data_vis[col])))\n",
    "    data_to_plot.append(data_vis[col].replace(category_count_arr))\n",
    "\n",
    "plt.show()"
   ]
  },
  {
   "cell_type": "code",
   "execution_count": 184,
   "metadata": {
    "collapsed": false
   },
   "outputs": [
    {
     "ename": "TypeError",
     "evalue": "'Series' object is not callable",
     "output_type": "error",
     "traceback": [
      "\u001b[0;31m---------------------------------------------------------------------------\u001b[0m",
      "\u001b[0;31mTypeError\u001b[0m                                 Traceback (most recent call last)",
      "\u001b[0;32m<ipython-input-184-432c60cfc343>\u001b[0m in \u001b[0;36m<module>\u001b[0;34m()\u001b[0m\n\u001b[0;32m----> 1\u001b[0;31m \u001b[0mdata_mapped\u001b[0m\u001b[0;34m.\u001b[0m\u001b[0mdtypes\u001b[0m\u001b[0;34m(\u001b[0m\u001b[0;34m)\u001b[0m\u001b[0;34m\u001b[0m\u001b[0m\n\u001b[0m",
      "\u001b[0;31mTypeError\u001b[0m: 'Series' object is not callable"
     ]
    }
   ],
   "source": [
    "data_mapped.dtypes()"
   ]
  },
  {
   "cell_type": "code",
   "execution_count": 185,
   "metadata": {
    "collapsed": false
   },
   "outputs": [
    {
     "name": "stdout",
     "output_type": "stream",
     "text": [
      "{'c': 5, 'b': 2, 'f': 0, 'k': 3, 's': 4, 'x': 1}\n",
      "Column processed: cap_shape\n",
      "Column processed: cap_surface\n",
      "Column processed: cap_color\n",
      "Column processed: bruises\n",
      "Column processed: odor\n",
      "Column processed: gill_attachment\n",
      "Column processed: gill_spacing\n",
      "Column processed: gill_size\n",
      "Column processed: gill_color\n",
      "Column processed: stalk_shape\n",
      "Column processed: radius\n",
      "Column processed: stalk_surface_above_ring\n",
      "Column processed: stalk_surface_below_ring\n",
      "Column processed: stalk_color_above_ring\n",
      "Column processed: stalk_color_below_ring\n",
      "Column processed: veil_type\n",
      "Column processed: veil_color\n",
      "Column processed: weight\n",
      "Column processed: ring_number\n",
      "Column processed: ring_type\n",
      "Column processed: spore_print_color\n",
      "Column processed: population\n",
      "Column processed: habitat\n"
     ]
    }
   ],
   "source": [
    "ip_addresses = data[\"cap_shape\"].unique()\n",
    "ip_dict = dict(zip(ip_addresses, range(len(ip_addresses))))\n",
    "print ip_dict\n",
    "\n",
    "data_mapped = data_vis.copy()\n",
    "for col in data_vis.columns:\n",
    "    if (col != \"class\"):\n",
    "        print \"Column processed: \" + col\n",
    "        col_unique = data[col].unique()\n",
    "        col_dict = dict(zip(col_unique, range(len(col_unique))))\n",
    "        data_mapped[col] = data_mapped[col].map(col_dict)\n",
    "    "
   ]
  },
  {
   "cell_type": "code",
   "execution_count": 186,
   "metadata": {
    "collapsed": false,
    "scrolled": true
   },
   "outputs": [
    {
     "name": "stdout",
     "output_type": "stream",
     "text": [
      "(5686, 24)\n"
     ]
    },
    {
     "data": {
      "text/html": [
       "<div>\n",
       "<table border=\"1\" class=\"dataframe\">\n",
       "  <thead>\n",
       "    <tr style=\"text-align: right;\">\n",
       "      <th></th>\n",
       "      <th>class</th>\n",
       "      <th>cap_shape</th>\n",
       "      <th>cap_surface</th>\n",
       "      <th>cap_color</th>\n",
       "      <th>bruises</th>\n",
       "      <th>odor</th>\n",
       "      <th>gill_attachment</th>\n",
       "      <th>gill_spacing</th>\n",
       "      <th>gill_size</th>\n",
       "      <th>gill_color</th>\n",
       "      <th>...</th>\n",
       "      <th>stalk_color_above_ring</th>\n",
       "      <th>stalk_color_below_ring</th>\n",
       "      <th>veil_type</th>\n",
       "      <th>veil_color</th>\n",
       "      <th>weight</th>\n",
       "      <th>ring_number</th>\n",
       "      <th>ring_type</th>\n",
       "      <th>spore_print_color</th>\n",
       "      <th>population</th>\n",
       "      <th>habitat</th>\n",
       "    </tr>\n",
       "  </thead>\n",
       "  <tbody>\n",
       "    <tr>\n",
       "      <th>0</th>\n",
       "      <td>1</td>\n",
       "      <td>0</td>\n",
       "      <td>0</td>\n",
       "      <td>0</td>\n",
       "      <td>0</td>\n",
       "      <td>0</td>\n",
       "      <td>0</td>\n",
       "      <td>0</td>\n",
       "      <td>0</td>\n",
       "      <td>0</td>\n",
       "      <td>...</td>\n",
       "      <td>0</td>\n",
       "      <td>0</td>\n",
       "      <td>0</td>\n",
       "      <td>0</td>\n",
       "      <td>0</td>\n",
       "      <td>0</td>\n",
       "      <td>0</td>\n",
       "      <td>0</td>\n",
       "      <td>0</td>\n",
       "      <td>0</td>\n",
       "    </tr>\n",
       "    <tr>\n",
       "      <th>1</th>\n",
       "      <td>1</td>\n",
       "      <td>1</td>\n",
       "      <td>1</td>\n",
       "      <td>1</td>\n",
       "      <td>1</td>\n",
       "      <td>1</td>\n",
       "      <td>0</td>\n",
       "      <td>0</td>\n",
       "      <td>0</td>\n",
       "      <td>1</td>\n",
       "      <td>...</td>\n",
       "      <td>1</td>\n",
       "      <td>0</td>\n",
       "      <td>0</td>\n",
       "      <td>0</td>\n",
       "      <td>1</td>\n",
       "      <td>0</td>\n",
       "      <td>1</td>\n",
       "      <td>1</td>\n",
       "      <td>0</td>\n",
       "      <td>1</td>\n",
       "    </tr>\n",
       "    <tr>\n",
       "      <th>2</th>\n",
       "      <td>0</td>\n",
       "      <td>0</td>\n",
       "      <td>0</td>\n",
       "      <td>2</td>\n",
       "      <td>1</td>\n",
       "      <td>2</td>\n",
       "      <td>0</td>\n",
       "      <td>0</td>\n",
       "      <td>1</td>\n",
       "      <td>2</td>\n",
       "      <td>...</td>\n",
       "      <td>2</td>\n",
       "      <td>1</td>\n",
       "      <td>0</td>\n",
       "      <td>0</td>\n",
       "      <td>2</td>\n",
       "      <td>1</td>\n",
       "      <td>0</td>\n",
       "      <td>0</td>\n",
       "      <td>1</td>\n",
       "      <td>2</td>\n",
       "    </tr>\n",
       "    <tr>\n",
       "      <th>3</th>\n",
       "      <td>1</td>\n",
       "      <td>1</td>\n",
       "      <td>0</td>\n",
       "      <td>0</td>\n",
       "      <td>0</td>\n",
       "      <td>3</td>\n",
       "      <td>0</td>\n",
       "      <td>0</td>\n",
       "      <td>0</td>\n",
       "      <td>0</td>\n",
       "      <td>...</td>\n",
       "      <td>0</td>\n",
       "      <td>0</td>\n",
       "      <td>0</td>\n",
       "      <td>0</td>\n",
       "      <td>3</td>\n",
       "      <td>0</td>\n",
       "      <td>0</td>\n",
       "      <td>0</td>\n",
       "      <td>0</td>\n",
       "      <td>0</td>\n",
       "    </tr>\n",
       "    <tr>\n",
       "      <th>4</th>\n",
       "      <td>0</td>\n",
       "      <td>1</td>\n",
       "      <td>0</td>\n",
       "      <td>1</td>\n",
       "      <td>1</td>\n",
       "      <td>4</td>\n",
       "      <td>0</td>\n",
       "      <td>0</td>\n",
       "      <td>1</td>\n",
       "      <td>3</td>\n",
       "      <td>...</td>\n",
       "      <td>1</td>\n",
       "      <td>0</td>\n",
       "      <td>0</td>\n",
       "      <td>0</td>\n",
       "      <td>4</td>\n",
       "      <td>0</td>\n",
       "      <td>1</td>\n",
       "      <td>1</td>\n",
       "      <td>2</td>\n",
       "      <td>3</td>\n",
       "    </tr>\n",
       "  </tbody>\n",
       "</table>\n",
       "<p>5 rows × 24 columns</p>\n",
       "</div>"
      ],
      "text/plain": [
       "  class  cap_shape  cap_surface  cap_color  bruises  odor  gill_attachment  \\\n",
       "0     1          0            0          0        0     0                0   \n",
       "1     1          1            1          1        1     1                0   \n",
       "2     0          0            0          2        1     2                0   \n",
       "3     1          1            0          0        0     3                0   \n",
       "4     0          1            0          1        1     4                0   \n",
       "\n",
       "   gill_spacing  gill_size  gill_color   ...     stalk_color_above_ring  \\\n",
       "0             0          0           0   ...                          0   \n",
       "1             0          0           1   ...                          1   \n",
       "2             0          1           2   ...                          2   \n",
       "3             0          0           0   ...                          0   \n",
       "4             0          1           3   ...                          1   \n",
       "\n",
       "   stalk_color_below_ring  veil_type  veil_color  weight  ring_number  \\\n",
       "0                       0          0           0       0            0   \n",
       "1                       0          0           0       1            0   \n",
       "2                       1          0           0       2            1   \n",
       "3                       0          0           0       3            0   \n",
       "4                       0          0           0       4            0   \n",
       "\n",
       "   ring_type  spore_print_color  population  habitat  \n",
       "0          0                  0           0        0  \n",
       "1          1                  1           0        1  \n",
       "2          0                  0           1        2  \n",
       "3          0                  0           0        0  \n",
       "4          1                  1           2        3  \n",
       "\n",
       "[5 rows x 24 columns]"
      ]
     },
     "execution_count": 186,
     "metadata": {},
     "output_type": "execute_result"
    }
   ],
   "source": [
    "print data_mapped.shape\n",
    "data_mapped.head()"
   ]
  },
  {
   "cell_type": "markdown",
   "metadata": {},
   "source": [
    "Summarises the data "
   ]
  },
  {
   "cell_type": "code",
   "execution_count": 293,
   "metadata": {
    "collapsed": false,
    "scrolled": true
   },
   "outputs": [
    {
     "name": "stdout",
     "output_type": "stream",
     "text": [
      "Columns do not exists in the dataframe\n",
      "Shape of dataframe:  (5686, 22)\n",
      "Max value is:  12\n"
     ]
    }
   ],
   "source": [
    "# Deletes column containing continous variables\n",
    "try:\n",
    "    del data_mapped[\"radius\"]\n",
    "    del data_mapped[\"weight\"]\n",
    "except KeyError:\n",
    "    print \"Columns do not exists in the dataframe\"\n",
    "\n",
    "print \"Shape of dataframe: \", data_mapped.shape\n",
    "\n",
    "# Runs thorough each element of each column to get highest categary mapping found\n",
    "max_mapped_cat = int(max(data_mapped.max())+1)\n",
    "print \"Max value is: \", max_mapped_cat\n",
    "\n",
    "#plot_list = [[0] * len(data_mapped.columns)] * max_mapped_cat\n",
    "plot_list = []\n",
    "for i in range(max_mapped_cat):\n",
    "    plot_list.append([0] * len(data_mapped.columns))\n",
    "# Iterate through each element and count them\n",
    "colId = 0\n",
    "row_count = len(data_mapped.index)\n",
    "\n",
    "\n",
    "for i in range(max_mapped_cat):\n",
    "    colId = 0\n",
    "    for col in data_mapped.columns:\n",
    "        try:\n",
    "            plot_list[i][colId] = ((data_mapped[col].value_counts())[i]*100)/row_count\n",
    "        except KeyError:\n",
    "            pass\n",
    "        colId += 1\n",
    "        #print colId"
   ]
  },
  {
   "cell_type": "code",
   "execution_count": 295,
   "metadata": {
    "collapsed": false
   },
   "outputs": [
    {
     "name": "stdout",
     "output_type": "stream",
     "text": [
      "12\n"
     ]
    }
   ],
   "source": [
    "print len(plot_list)"
   ]
  },
  {
   "cell_type": "code",
   "execution_count": 296,
   "metadata": {
    "collapsed": false
   },
   "outputs": [
    {
     "name": "stdout",
     "output_type": "stream",
     "text": [
      "['#73860C', '#221528', '#810DEF', '#5EAA7F', '#0E2DEB', '#50CFAA', '#A6E653', '#7C06AB', '#8C5A94', '#FB5867', '#D6AF7F', '#2007E8']\n",
      "[  51.7938797    38.32219486   31.0059796    18.46640872   58.00211045\n",
      "    7.22827999   97.64333451   83.87266972   30.90045726   21.10446711\n",
      "   56.70066831   63.73549068   28.38550827   22.84558565   54.08019698\n",
      "  100.           97.73126979   91.92754133   33.96060499   29.58142807\n",
      "   49.48997538    9.98944777]\n"
     ]
    }
   ],
   "source": [
    "# Plots the stacked bar graph\n",
    "N = len(data_mapped.columns)\n",
    "ind = np.arange(N)\n",
    "width = 0.5\n",
    "p = []\n",
    "\n",
    "# Generates list of random hex color string\n",
    "def r():\n",
    "    return random.randint(0,255)\n",
    "\n",
    "plot_colors = [('#%02X%02X%02X' % (r(),r(),r())) for i in range(max_mapped_cat)]\n",
    "print plot_colors\n",
    "bottom_list = [0]*len(plot_list[0])\n",
    "for i in range(max_mapped_cat):\n",
    "    p.append(plt.bar(ind, plot_list[i], width, color=plot_colors[i], bottom=bottom_list))\n",
    "    #print len(plot_list[i])\n",
    "    for k in range(len(plot_list[i])):\n",
    "        bottom_list[k] += plot_list[i][k]\n",
    "                 \n",
    "print np.array(plot_list[0])"
   ]
  },
  {
   "cell_type": "code",
   "execution_count": 297,
   "metadata": {
    "collapsed": false
   },
   "outputs": [
    {
     "data": {
      "image/png": "[encoded data removed]",
      "text/plain": [
       "<matplotlib.figure.Figure at 0x7efc45fccb10>"
      ]
     },
     "metadata": {},
     "output_type": "display_data"
    }
   ],
   "source": [
    "plt.show()"
   ]
  },
  {
   "cell_type": "code",
   "execution_count": 298,
   "metadata": {
    "collapsed": false
   },
   "outputs": [
    {
     "data": {
      "text/html": [
       "<div>\n",
       "<table border=\"1\" class=\"dataframe\">\n",
       "  <thead>\n",
       "    <tr style=\"text-align: right;\">\n",
       "      <th></th>\n",
       "      <th>class</th>\n",
       "      <th>cap_shape</th>\n",
       "      <th>cap_surface</th>\n",
       "      <th>cap_color</th>\n",
       "      <th>bruises</th>\n",
       "      <th>odor</th>\n",
       "      <th>gill_attachment</th>\n",
       "      <th>gill_spacing</th>\n",
       "      <th>gill_size</th>\n",
       "      <th>gill_color</th>\n",
       "      <th>...</th>\n",
       "      <th>stalk_surface_below_ring</th>\n",
       "      <th>stalk_color_above_ring</th>\n",
       "      <th>stalk_color_below_ring</th>\n",
       "      <th>veil_type</th>\n",
       "      <th>veil_color</th>\n",
       "      <th>ring_number</th>\n",
       "      <th>ring_type</th>\n",
       "      <th>spore_print_color</th>\n",
       "      <th>population</th>\n",
       "      <th>habitat</th>\n",
       "    </tr>\n",
       "  </thead>\n",
       "  <tbody>\n",
       "    <tr>\n",
       "      <th>0</th>\n",
       "      <td>1</td>\n",
       "      <td>0</td>\n",
       "      <td>0</td>\n",
       "      <td>0</td>\n",
       "      <td>0</td>\n",
       "      <td>0</td>\n",
       "      <td>0</td>\n",
       "      <td>0</td>\n",
       "      <td>0</td>\n",
       "      <td>0</td>\n",
       "      <td>...</td>\n",
       "      <td>0</td>\n",
       "      <td>0</td>\n",
       "      <td>0</td>\n",
       "      <td>0</td>\n",
       "      <td>0</td>\n",
       "      <td>0</td>\n",
       "      <td>0</td>\n",
       "      <td>0</td>\n",
       "      <td>0</td>\n",
       "      <td>0</td>\n",
       "    </tr>\n",
       "    <tr>\n",
       "      <th>1</th>\n",
       "      <td>1</td>\n",
       "      <td>1</td>\n",
       "      <td>1</td>\n",
       "      <td>1</td>\n",
       "      <td>1</td>\n",
       "      <td>1</td>\n",
       "      <td>0</td>\n",
       "      <td>0</td>\n",
       "      <td>0</td>\n",
       "      <td>1</td>\n",
       "      <td>...</td>\n",
       "      <td>1</td>\n",
       "      <td>1</td>\n",
       "      <td>0</td>\n",
       "      <td>0</td>\n",
       "      <td>0</td>\n",
       "      <td>0</td>\n",
       "      <td>1</td>\n",
       "      <td>1</td>\n",
       "      <td>0</td>\n",
       "      <td>1</td>\n",
       "    </tr>\n",
       "    <tr>\n",
       "      <th>2</th>\n",
       "      <td>0</td>\n",
       "      <td>0</td>\n",
       "      <td>0</td>\n",
       "      <td>2</td>\n",
       "      <td>1</td>\n",
       "      <td>2</td>\n",
       "      <td>0</td>\n",
       "      <td>0</td>\n",
       "      <td>1</td>\n",
       "      <td>2</td>\n",
       "      <td>...</td>\n",
       "      <td>1</td>\n",
       "      <td>2</td>\n",
       "      <td>1</td>\n",
       "      <td>0</td>\n",
       "      <td>0</td>\n",
       "      <td>1</td>\n",
       "      <td>0</td>\n",
       "      <td>0</td>\n",
       "      <td>1</td>\n",
       "      <td>2</td>\n",
       "    </tr>\n",
       "    <tr>\n",
       "      <th>3</th>\n",
       "      <td>1</td>\n",
       "      <td>1</td>\n",
       "      <td>0</td>\n",
       "      <td>0</td>\n",
       "      <td>0</td>\n",
       "      <td>3</td>\n",
       "      <td>0</td>\n",
       "      <td>0</td>\n",
       "      <td>0</td>\n",
       "      <td>0</td>\n",
       "      <td>...</td>\n",
       "      <td>1</td>\n",
       "      <td>0</td>\n",
       "      <td>0</td>\n",
       "      <td>0</td>\n",
       "      <td>0</td>\n",
       "      <td>0</td>\n",
       "      <td>0</td>\n",
       "      <td>0</td>\n",
       "      <td>0</td>\n",
       "      <td>0</td>\n",
       "    </tr>\n",
       "    <tr>\n",
       "      <th>4</th>\n",
       "      <td>0</td>\n",
       "      <td>1</td>\n",
       "      <td>0</td>\n",
       "      <td>1</td>\n",
       "      <td>1</td>\n",
       "      <td>4</td>\n",
       "      <td>0</td>\n",
       "      <td>0</td>\n",
       "      <td>1</td>\n",
       "      <td>3</td>\n",
       "      <td>...</td>\n",
       "      <td>1</td>\n",
       "      <td>1</td>\n",
       "      <td>0</td>\n",
       "      <td>0</td>\n",
       "      <td>0</td>\n",
       "      <td>0</td>\n",
       "      <td>1</td>\n",
       "      <td>1</td>\n",
       "      <td>2</td>\n",
       "      <td>3</td>\n",
       "    </tr>\n",
       "  </tbody>\n",
       "</table>\n",
       "<p>5 rows × 22 columns</p>\n",
       "</div>"
      ],
      "text/plain": [
       "  class  cap_shape  cap_surface  cap_color  bruises  odor  gill_attachment  \\\n",
       "0     1          0            0          0        0     0                0   \n",
       "1     1          1            1          1        1     1                0   \n",
       "2     0          0            0          2        1     2                0   \n",
       "3     1          1            0          0        0     3                0   \n",
       "4     0          1            0          1        1     4                0   \n",
       "\n",
       "   gill_spacing  gill_size  gill_color   ...     stalk_surface_below_ring  \\\n",
       "0             0          0           0   ...                            0   \n",
       "1             0          0           1   ...                            1   \n",
       "2             0          1           2   ...                            1   \n",
       "3             0          0           0   ...                            1   \n",
       "4             0          1           3   ...                            1   \n",
       "\n",
       "   stalk_color_above_ring  stalk_color_below_ring  veil_type  veil_color  \\\n",
       "0                       0                       0          0           0   \n",
       "1                       1                       0          0           0   \n",
       "2                       2                       1          0           0   \n",
       "3                       0                       0          0           0   \n",
       "4                       1                       0          0           0   \n",
       "\n",
       "   ring_number  ring_type  spore_print_color  population  habitat  \n",
       "0            0          0                  0           0        0  \n",
       "1            0          1                  1           0        1  \n",
       "2            1          0                  0           1        2  \n",
       "3            0          0                  0           0        0  \n",
       "4            0          1                  1           2        3  \n",
       "\n",
       "[5 rows x 22 columns]"
      ]
     },
     "execution_count": 298,
     "metadata": {},
     "output_type": "execute_result"
    }
   ],
   "source": [
    "data_mapped.head()"
   ]
  },
  {
   "cell_type": "code",
   "execution_count": 300,
   "metadata": {
    "collapsed": false
   },
   "outputs": [
    {
     "data": {
      "text/plain": [
       "(5686, 116)"
      ]
     },
     "execution_count": 300,
     "metadata": {},
     "output_type": "execute_result"
    }
   ],
   "source": [
    "data = pd.get_dummies(data)\n",
    "data.shape"
   ]
  },
  {
   "cell_type": "code",
   "execution_count": 301,
   "metadata": {
    "collapsed": false
   },
   "outputs": [
    {
     "data": {
      "image/png": "[encoded data removed]",
      "text/plain": [
       "<matplotlib.figure.Figure at 0x7efc466fdd10>"
      ]
     },
     "metadata": {},
     "output_type": "display_data"
    }
   ],
   "source": [
    "plt.plot([1,2,3,4])\n",
    "plt.ylabel('some numbers')\n",
    "plt.show()"
   ]
  },
  {
   "cell_type": "markdown",
   "metadata": {},
   "source": [
    "Plot data ;-)"
   ]
  },
  {
   "cell_type": "markdown",
   "metadata": {},
   "source": [
    "Get idea of data types"
   ]
  },
  {
   "cell_type": "code",
   "execution_count": null,
   "metadata": {
    "collapsed": false
   },
   "outputs": [],
   "source": []
  },
  {
   "cell_type": "code",
   "execution_count": null,
   "metadata": {
    "collapsed": false
   },
   "outputs": [],
   "source": [
    "data['weight'].plot()"
   ]
  },
  {
   "cell_type": "code",
   "execution_count": null,
   "metadata": {
    "collapsed": false
   },
   "outputs": [],
   "source": [
    "X = data.drop(\"class_p\",axis=1).drop(\"class_e\", axis=1)\n",
    "y = data['class_p']\n",
    "X_train, X_test, y_train, y_test = train_test_split(X, y)"
   ]
  },
  {
   "cell_type": "code",
   "execution_count": null,
   "metadata": {
    "collapsed": false
   },
   "outputs": [],
   "source": [
    "X_train.shape"
   ]
  },
  {
   "cell_type": "code",
   "execution_count": null,
   "metadata": {
    "collapsed": false
   },
   "outputs": [],
   "source": [
    "X_test.shape"
   ]
  },
  {
   "cell_type": "code",
   "execution_count": null,
   "metadata": {
    "collapsed": false
   },
   "outputs": [],
   "source": [
    "rf = RandomForestRegressor(n_estimators=10, verbose=True, n_jobs=-1)\n",
    "rf.fit(X_train, y_train)"
   ]
  },
  {
   "cell_type": "code",
   "execution_count": null,
   "metadata": {
    "collapsed": false
   },
   "outputs": [],
   "source": [
    "predictions = rf.predict(X_test)"
   ]
  },
  {
   "cell_type": "code",
   "execution_count": null,
   "metadata": {
    "collapsed": false
   },
   "outputs": [],
   "source": [
    "predictions = predictions.astype(np.uint8, copy=False)\n",
    "y_test_ndarray = y_test.values\n",
    "print type(predictions)\n",
    "print type(y_test_ndarray)"
   ]
  },
  {
   "cell_type": "code",
   "execution_count": null,
   "metadata": {
    "collapsed": false
   },
   "outputs": [],
   "source": [
    "from sklearn.metrics import accuracy_score\n",
    "print \"Score: \" + str(accuracy_score(y_test.values, predictions)*100) + \"%\""
   ]
  }
 ],
 "metadata": {
  "kernelspec": {
   "display_name": "k_means",
   "language": "python",
   "name": "k_means"
  },
  "language_info": {
   "codemirror_mode": {
    "name": "ipython",
    "version": 2
   },
   "file_extension": ".py",
   "mimetype": "text/x-python",
   "name": "python",
   "nbconvert_exporter": "python",
   "pygments_lexer": "ipython2",
   "version": "2.7.13"
  }
 },
 "nbformat": 4,
 "nbformat_minor": 2
}
