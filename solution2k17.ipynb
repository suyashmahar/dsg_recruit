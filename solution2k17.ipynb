{
 "cells": [
  {
   "cell_type": "code",
   "execution_count": 311,
   "metadata": {
    "collapsed": true
   },
   "outputs": [],
   "source": [
    "from __future__ import division\n",
    "\n",
    "import matplotlib.pyplot as plt\n",
    "import pandas as pd\n",
    "import numpy as np\n",
    "import random\n",
    "from sklearn.model_selection import train_test_split\n",
    "from sklearn.decomposition import PCA\n",
    "#from treeinterpreter import treeinterpreter as ti\n",
    "from sklearn.tree import DecisionTreeRegressor\n",
    "from sklearn.ensemble import RandomForestRegressor\n",
    "from sklearn.feature_selection import VarianceThreshold\n",
    "import numpy as np\n",
    " \n",
    "from sklearn.datasets import load_boston\n",
    "import seaborn as sns"
   ]
  },
  {
   "cell_type": "code",
   "execution_count": 312,
   "metadata": {
    "collapsed": true
   },
   "outputs": [],
   "source": [
    "train_ds = \"mushroom_train.csv\"\n",
    "test_ds = \"mushroom_test.csv\""
   ]
  },
  {
   "cell_type": "code",
   "execution_count": 313,
   "metadata": {
    "collapsed": true
   },
   "outputs": [],
   "source": [
    "data = pd.read_csv(train_ds)\n",
    "data_predict = pd.read_csv(test_ds)"
   ]
  },
  {
   "cell_type": "markdown",
   "metadata": {},
   "source": [
    "## Data renaming\n",
    "1. Replace '-' with '\\_' to make label name work with pandas \n",
    "2. Replace ? with np.NaN to make life easy"
   ]
  },
  {
   "cell_type": "code",
   "execution_count": 314,
   "metadata": {
    "collapsed": true
   },
   "outputs": [],
   "source": [
    "data.rename(columns=lambda x: x.replace('-', '_'), inplace=True) # Rename labels to work\n",
    "data = data.replace({'?': np.NaN}, regex=False);\n",
    "\n",
    "# For prediction dataset\n",
    "data_predict.rename(columns=lambda x: x.replace('-', '_'), inplace=True) # Rename labels to work\n",
    "data_predict = data_predict.replace({'?': np.NaN}, regex=False);"
   ]
  },
  {
   "cell_type": "markdown",
   "metadata": {},
   "source": [
    "## Missing value filter\n",
    "Remove all feature having more than 70% missing data"
   ]
  },
  {
   "cell_type": "code",
   "execution_count": 315,
   "metadata": {
    "collapsed": false
   },
   "outputs": [
    {
     "name": "stdout",
     "output_type": "stream",
     "text": [
      "(2438, 23)\n",
      "(5686, 24)\n"
     ]
    }
   ],
   "source": [
    "data = data.dropna(thresh=0.7*len(data), axis=1)\n",
    "\n",
    "# remove those features from data_predict as well\n",
    "for col in data_predict.columns:\n",
    "    if col != \"class\" and (col not in list(data.columns.values)):\n",
    "        del data_predict[col]\n",
    "print data_predict.shape\n",
    "print data.shape"
   ]
  },
  {
   "cell_type": "code",
   "execution_count": null,
   "metadata": {
    "collapsed": true
   },
   "outputs": [],
   "source": []
  },
  {
   "cell_type": "markdown",
   "metadata": {},
   "source": [
    "## Identifying data types"
   ]
  },
  {
   "cell_type": "code",
   "execution_count": 316,
   "metadata": {
    "collapsed": false
   },
   "outputs": [
    {
     "name": "stdout",
     "output_type": "stream",
     "text": [
      "class                       object\n",
      "cap_shape                   object\n",
      "cap_surface                 object\n",
      "cap_color                   object\n",
      "bruises                     object\n",
      "odor                        object\n",
      "gill_attachment             object\n",
      "gill_spacing                object\n",
      "gill_size                   object\n",
      "gill_color                  object\n",
      "stalk_shape                 object\n",
      "radius                       int64\n",
      "stalk_surface_above_ring    object\n",
      "stalk_surface_below_ring    object\n",
      "stalk_color_above_ring      object\n",
      "stalk_color_below_ring      object\n",
      "veil_type                   object\n",
      "veil_color                  object\n",
      "weight                       int64\n",
      "ring_number                 object\n",
      "ring_type                   object\n",
      "spore_print_color           object\n",
      "population                  object\n",
      "habitat                     object\n",
      "dtype: object\n"
     ]
    }
   ],
   "source": [
    "data.head()\n",
    "print data.dtypes"
   ]
  },
  {
   "cell_type": "markdown",
   "metadata": {},
   "source": [
    "\n",
    "This shows that except `radius` and `weight` all other variables are categorical "
   ]
  },
  {
   "cell_type": "markdown",
   "metadata": {},
   "source": [
    "# Data visualisation and analysis"
   ]
  },
  {
   "cell_type": "code",
   "execution_count": 317,
   "metadata": {
    "collapsed": false
   },
   "outputs": [
    {
     "name": "stderr",
     "output_type": "stream",
     "text": [
      "/home/suyash/app/anaconda2/lib/python2.7/site-packages/ipykernel/__main__.py:5: SettingWithCopyWarning: \n",
      "A value is trying to be set on a copy of a slice from a DataFrame\n",
      "\n",
      "See the caveats in the documentation: http://pandas.pydata.org/pandas-docs/stable/indexing.html#indexing-view-versus-copy\n",
      "/home/suyash/app/anaconda2/lib/python2.7/site-packages/ipykernel/__main__.py:6: SettingWithCopyWarning: \n",
      "A value is trying to be set on a copy of a slice from a DataFrame\n",
      "\n",
      "See the caveats in the documentation: http://pandas.pydata.org/pandas-docs/stable/indexing.html#indexing-view-versus-copy\n"
     ]
    },
    {
     "data": {
      "text/html": [
       "<div>\n",
       "<table border=\"1\" class=\"dataframe\">\n",
       "  <thead>\n",
       "    <tr style=\"text-align: right;\">\n",
       "      <th></th>\n",
       "      <th>class</th>\n",
       "      <th>cap_shape</th>\n",
       "      <th>cap_surface</th>\n",
       "      <th>cap_color</th>\n",
       "      <th>bruises</th>\n",
       "      <th>odor</th>\n",
       "      <th>gill_attachment</th>\n",
       "      <th>gill_spacing</th>\n",
       "      <th>gill_size</th>\n",
       "      <th>gill_color</th>\n",
       "      <th>...</th>\n",
       "      <th>stalk_color_above_ring</th>\n",
       "      <th>stalk_color_below_ring</th>\n",
       "      <th>veil_type</th>\n",
       "      <th>veil_color</th>\n",
       "      <th>weight</th>\n",
       "      <th>ring_number</th>\n",
       "      <th>ring_type</th>\n",
       "      <th>spore_print_color</th>\n",
       "      <th>population</th>\n",
       "      <th>habitat</th>\n",
       "    </tr>\n",
       "  </thead>\n",
       "  <tbody>\n",
       "    <tr>\n",
       "      <th>0</th>\n",
       "      <td>1</td>\n",
       "      <td>f</td>\n",
       "      <td>s</td>\n",
       "      <td>e</td>\n",
       "      <td>f</td>\n",
       "      <td>s</td>\n",
       "      <td>f</td>\n",
       "      <td>c</td>\n",
       "      <td>n</td>\n",
       "      <td>b</td>\n",
       "      <td>...</td>\n",
       "      <td>p</td>\n",
       "      <td>w</td>\n",
       "      <td>p</td>\n",
       "      <td>w</td>\n",
       "      <td>38</td>\n",
       "      <td>o</td>\n",
       "      <td>e</td>\n",
       "      <td>w</td>\n",
       "      <td>v</td>\n",
       "      <td>l</td>\n",
       "    </tr>\n",
       "    <tr>\n",
       "      <th>1</th>\n",
       "      <td>1</td>\n",
       "      <td>x</td>\n",
       "      <td>y</td>\n",
       "      <td>w</td>\n",
       "      <td>t</td>\n",
       "      <td>p</td>\n",
       "      <td>f</td>\n",
       "      <td>c</td>\n",
       "      <td>n</td>\n",
       "      <td>k</td>\n",
       "      <td>...</td>\n",
       "      <td>w</td>\n",
       "      <td>w</td>\n",
       "      <td>p</td>\n",
       "      <td>w</td>\n",
       "      <td>43</td>\n",
       "      <td>o</td>\n",
       "      <td>p</td>\n",
       "      <td>n</td>\n",
       "      <td>v</td>\n",
       "      <td>u</td>\n",
       "    </tr>\n",
       "    <tr>\n",
       "      <th>2</th>\n",
       "      <td>0</td>\n",
       "      <td>f</td>\n",
       "      <td>s</td>\n",
       "      <td>n</td>\n",
       "      <td>t</td>\n",
       "      <td>n</td>\n",
       "      <td>f</td>\n",
       "      <td>c</td>\n",
       "      <td>b</td>\n",
       "      <td>e</td>\n",
       "      <td>...</td>\n",
       "      <td>e</td>\n",
       "      <td>e</td>\n",
       "      <td>p</td>\n",
       "      <td>w</td>\n",
       "      <td>37</td>\n",
       "      <td>t</td>\n",
       "      <td>e</td>\n",
       "      <td>w</td>\n",
       "      <td>c</td>\n",
       "      <td>w</td>\n",
       "    </tr>\n",
       "    <tr>\n",
       "      <th>3</th>\n",
       "      <td>1</td>\n",
       "      <td>x</td>\n",
       "      <td>s</td>\n",
       "      <td>e</td>\n",
       "      <td>f</td>\n",
       "      <td>y</td>\n",
       "      <td>f</td>\n",
       "      <td>c</td>\n",
       "      <td>n</td>\n",
       "      <td>b</td>\n",
       "      <td>...</td>\n",
       "      <td>p</td>\n",
       "      <td>w</td>\n",
       "      <td>p</td>\n",
       "      <td>w</td>\n",
       "      <td>82</td>\n",
       "      <td>o</td>\n",
       "      <td>e</td>\n",
       "      <td>w</td>\n",
       "      <td>v</td>\n",
       "      <td>l</td>\n",
       "    </tr>\n",
       "    <tr>\n",
       "      <th>4</th>\n",
       "      <td>0</td>\n",
       "      <td>x</td>\n",
       "      <td>s</td>\n",
       "      <td>w</td>\n",
       "      <td>t</td>\n",
       "      <td>l</td>\n",
       "      <td>f</td>\n",
       "      <td>c</td>\n",
       "      <td>b</td>\n",
       "      <td>n</td>\n",
       "      <td>...</td>\n",
       "      <td>w</td>\n",
       "      <td>w</td>\n",
       "      <td>p</td>\n",
       "      <td>w</td>\n",
       "      <td>36</td>\n",
       "      <td>o</td>\n",
       "      <td>p</td>\n",
       "      <td>n</td>\n",
       "      <td>s</td>\n",
       "      <td>m</td>\n",
       "    </tr>\n",
       "  </tbody>\n",
       "</table>\n",
       "<p>5 rows × 24 columns</p>\n",
       "</div>"
      ],
      "text/plain": [
       "  class cap_shape cap_surface cap_color bruises odor gill_attachment  \\\n",
       "0     1         f           s         e       f    s               f   \n",
       "1     1         x           y         w       t    p               f   \n",
       "2     0         f           s         n       t    n               f   \n",
       "3     1         x           s         e       f    y               f   \n",
       "4     0         x           s         w       t    l               f   \n",
       "\n",
       "  gill_spacing gill_size gill_color   ...   stalk_color_above_ring  \\\n",
       "0            c         n          b   ...                        p   \n",
       "1            c         n          k   ...                        w   \n",
       "2            c         b          e   ...                        e   \n",
       "3            c         n          b   ...                        p   \n",
       "4            c         b          n   ...                        w   \n",
       "\n",
       "   stalk_color_below_ring veil_type veil_color weight ring_number ring_type  \\\n",
       "0                       w         p          w     38           o         e   \n",
       "1                       w         p          w     43           o         p   \n",
       "2                       e         p          w     37           t         e   \n",
       "3                       w         p          w     82           o         e   \n",
       "4                       w         p          w     36           o         p   \n",
       "\n",
       "  spore_print_color  population habitat  \n",
       "0                 w           v       l  \n",
       "1                 n           v       u  \n",
       "2                 w           c       w  \n",
       "3                 w           v       l  \n",
       "4                 n           s       m  \n",
       "\n",
       "[5 rows x 24 columns]"
      ]
     },
     "execution_count": 317,
     "metadata": {},
     "output_type": "execute_result"
    }
   ],
   "source": [
    "X_vis = data.drop(\"class\",axis=1)\n",
    "y_vis = pd.get_dummies(data)['class_p']\n",
    "data_vis = data.copy()\n",
    "\n",
    "data_vis[\"class\"][data_vis[\"class\"] == \"p\"] = 1\n",
    "data_vis[\"class\"][data_vis[\"class\"] == \"e\"] = 0\n",
    "    \n",
    "data_vis.head()"
   ]
  },
  {
   "cell_type": "markdown",
   "metadata": {},
   "source": [
    "## Visualisation"
   ]
  },
  {
   "cell_type": "markdown",
   "metadata": {},
   "source": [
    "Currently categories are represented by alphabets. To visualize them they are first convereted to integer using following logic"
   ]
  },
  {
   "cell_type": "code",
   "execution_count": 318,
   "metadata": {
    "collapsed": false
   },
   "outputs": [],
   "source": [
    "data_mapped = data_vis.copy()\n",
    "for col in data_vis.columns:\n",
    "    if (col != \"class\"):\n",
    "        col_unique = data[col].unique()\n",
    "        col_dict = dict(zip(col_unique, range(len(col_unique))))\n",
    "        data_mapped[col] = data_mapped[col].map(col_dict)"
   ]
  },
  {
   "cell_type": "code",
   "execution_count": 319,
   "metadata": {
    "collapsed": false
   },
   "outputs": [
    {
     "data": {
      "text/plain": [
       "class                       object\n",
       "cap_shape                    int64\n",
       "cap_surface                  int64\n",
       "cap_color                    int64\n",
       "bruises                      int64\n",
       "odor                         int64\n",
       "gill_attachment              int64\n",
       "gill_spacing                 int64\n",
       "gill_size                    int64\n",
       "gill_color                   int64\n",
       "stalk_shape                  int64\n",
       "radius                       int64\n",
       "stalk_surface_above_ring     int64\n",
       "stalk_surface_below_ring     int64\n",
       "stalk_color_above_ring       int64\n",
       "stalk_color_below_ring       int64\n",
       "veil_type                    int64\n",
       "veil_color                   int64\n",
       "weight                       int64\n",
       "ring_number                  int64\n",
       "ring_type                    int64\n",
       "spore_print_color            int64\n",
       "population                   int64\n",
       "habitat                      int64\n",
       "dtype: object"
      ]
     },
     "execution_count": 319,
     "metadata": {},
     "output_type": "execute_result"
    }
   ],
   "source": [
    "data_mapped.dtypes"
   ]
  },
  {
   "cell_type": "markdown",
   "metadata": {},
   "source": [
    "All datatypes are now converted to int64 this is evident in the head of `data_mapped`"
   ]
  },
  {
   "cell_type": "code",
   "execution_count": 320,
   "metadata": {
    "collapsed": false
   },
   "outputs": [
    {
     "name": "stdout",
     "output_type": "stream",
     "text": [
      "(5686, 24)\n"
     ]
    },
    {
     "data": {
      "text/html": [
       "<div>\n",
       "<table border=\"1\" class=\"dataframe\">\n",
       "  <thead>\n",
       "    <tr style=\"text-align: right;\">\n",
       "      <th></th>\n",
       "      <th>class</th>\n",
       "      <th>cap_shape</th>\n",
       "      <th>cap_surface</th>\n",
       "      <th>cap_color</th>\n",
       "      <th>bruises</th>\n",
       "      <th>odor</th>\n",
       "      <th>gill_attachment</th>\n",
       "      <th>gill_spacing</th>\n",
       "      <th>gill_size</th>\n",
       "      <th>gill_color</th>\n",
       "      <th>...</th>\n",
       "      <th>stalk_color_above_ring</th>\n",
       "      <th>stalk_color_below_ring</th>\n",
       "      <th>veil_type</th>\n",
       "      <th>veil_color</th>\n",
       "      <th>weight</th>\n",
       "      <th>ring_number</th>\n",
       "      <th>ring_type</th>\n",
       "      <th>spore_print_color</th>\n",
       "      <th>population</th>\n",
       "      <th>habitat</th>\n",
       "    </tr>\n",
       "  </thead>\n",
       "  <tbody>\n",
       "    <tr>\n",
       "      <th>0</th>\n",
       "      <td>1</td>\n",
       "      <td>0</td>\n",
       "      <td>0</td>\n",
       "      <td>0</td>\n",
       "      <td>0</td>\n",
       "      <td>0</td>\n",
       "      <td>0</td>\n",
       "      <td>0</td>\n",
       "      <td>0</td>\n",
       "      <td>0</td>\n",
       "      <td>...</td>\n",
       "      <td>0</td>\n",
       "      <td>0</td>\n",
       "      <td>0</td>\n",
       "      <td>0</td>\n",
       "      <td>0</td>\n",
       "      <td>0</td>\n",
       "      <td>0</td>\n",
       "      <td>0</td>\n",
       "      <td>0</td>\n",
       "      <td>0</td>\n",
       "    </tr>\n",
       "    <tr>\n",
       "      <th>1</th>\n",
       "      <td>1</td>\n",
       "      <td>1</td>\n",
       "      <td>1</td>\n",
       "      <td>1</td>\n",
       "      <td>1</td>\n",
       "      <td>1</td>\n",
       "      <td>0</td>\n",
       "      <td>0</td>\n",
       "      <td>0</td>\n",
       "      <td>1</td>\n",
       "      <td>...</td>\n",
       "      <td>1</td>\n",
       "      <td>0</td>\n",
       "      <td>0</td>\n",
       "      <td>0</td>\n",
       "      <td>1</td>\n",
       "      <td>0</td>\n",
       "      <td>1</td>\n",
       "      <td>1</td>\n",
       "      <td>0</td>\n",
       "      <td>1</td>\n",
       "    </tr>\n",
       "    <tr>\n",
       "      <th>2</th>\n",
       "      <td>0</td>\n",
       "      <td>0</td>\n",
       "      <td>0</td>\n",
       "      <td>2</td>\n",
       "      <td>1</td>\n",
       "      <td>2</td>\n",
       "      <td>0</td>\n",
       "      <td>0</td>\n",
       "      <td>1</td>\n",
       "      <td>2</td>\n",
       "      <td>...</td>\n",
       "      <td>2</td>\n",
       "      <td>1</td>\n",
       "      <td>0</td>\n",
       "      <td>0</td>\n",
       "      <td>2</td>\n",
       "      <td>1</td>\n",
       "      <td>0</td>\n",
       "      <td>0</td>\n",
       "      <td>1</td>\n",
       "      <td>2</td>\n",
       "    </tr>\n",
       "    <tr>\n",
       "      <th>3</th>\n",
       "      <td>1</td>\n",
       "      <td>1</td>\n",
       "      <td>0</td>\n",
       "      <td>0</td>\n",
       "      <td>0</td>\n",
       "      <td>3</td>\n",
       "      <td>0</td>\n",
       "      <td>0</td>\n",
       "      <td>0</td>\n",
       "      <td>0</td>\n",
       "      <td>...</td>\n",
       "      <td>0</td>\n",
       "      <td>0</td>\n",
       "      <td>0</td>\n",
       "      <td>0</td>\n",
       "      <td>3</td>\n",
       "      <td>0</td>\n",
       "      <td>0</td>\n",
       "      <td>0</td>\n",
       "      <td>0</td>\n",
       "      <td>0</td>\n",
       "    </tr>\n",
       "    <tr>\n",
       "      <th>4</th>\n",
       "      <td>0</td>\n",
       "      <td>1</td>\n",
       "      <td>0</td>\n",
       "      <td>1</td>\n",
       "      <td>1</td>\n",
       "      <td>4</td>\n",
       "      <td>0</td>\n",
       "      <td>0</td>\n",
       "      <td>1</td>\n",
       "      <td>3</td>\n",
       "      <td>...</td>\n",
       "      <td>1</td>\n",
       "      <td>0</td>\n",
       "      <td>0</td>\n",
       "      <td>0</td>\n",
       "      <td>4</td>\n",
       "      <td>0</td>\n",
       "      <td>1</td>\n",
       "      <td>1</td>\n",
       "      <td>2</td>\n",
       "      <td>3</td>\n",
       "    </tr>\n",
       "  </tbody>\n",
       "</table>\n",
       "<p>5 rows × 24 columns</p>\n",
       "</div>"
      ],
      "text/plain": [
       "  class  cap_shape  cap_surface  cap_color  bruises  odor  gill_attachment  \\\n",
       "0     1          0            0          0        0     0                0   \n",
       "1     1          1            1          1        1     1                0   \n",
       "2     0          0            0          2        1     2                0   \n",
       "3     1          1            0          0        0     3                0   \n",
       "4     0          1            0          1        1     4                0   \n",
       "\n",
       "   gill_spacing  gill_size  gill_color   ...     stalk_color_above_ring  \\\n",
       "0             0          0           0   ...                          0   \n",
       "1             0          0           1   ...                          1   \n",
       "2             0          1           2   ...                          2   \n",
       "3             0          0           0   ...                          0   \n",
       "4             0          1           3   ...                          1   \n",
       "\n",
       "   stalk_color_below_ring  veil_type  veil_color  weight  ring_number  \\\n",
       "0                       0          0           0       0            0   \n",
       "1                       0          0           0       1            0   \n",
       "2                       1          0           0       2            1   \n",
       "3                       0          0           0       3            0   \n",
       "4                       0          0           0       4            0   \n",
       "\n",
       "   ring_type  spore_print_color  population  habitat  \n",
       "0          0                  0           0        0  \n",
       "1          1                  1           0        1  \n",
       "2          0                  0           1        2  \n",
       "3          0                  0           0        0  \n",
       "4          1                  1           2        3  \n",
       "\n",
       "[5 rows x 24 columns]"
      ]
     },
     "execution_count": 320,
     "metadata": {},
     "output_type": "execute_result"
    }
   ],
   "source": [
    "print data_mapped.shape\n",
    "data_mapped.head()"
   ]
  },
  {
   "cell_type": "markdown",
   "metadata": {},
   "source": [
    "### Filtering for data visualisation\n",
    "Drop columns containing continous variables"
   ]
  },
  {
   "cell_type": "code",
   "execution_count": 321,
   "metadata": {
    "collapsed": true
   },
   "outputs": [],
   "source": [
    "# Deletes column containing continous variables\n",
    "try:\n",
    "    del data_mapped[\"radius\"]\n",
    "    del data_mapped[\"weight\"]\n",
    "except KeyError:\n",
    "    print \"Columns do not exists in the dataframe\""
   ]
  },
  {
   "cell_type": "markdown",
   "metadata": {},
   "source": [
    "Convert each remaining categorical feature to percent for visualisation"
   ]
  },
  {
   "cell_type": "code",
   "execution_count": 322,
   "metadata": {
    "collapsed": false
   },
   "outputs": [
    {
     "name": "stdout",
     "output_type": "stream",
     "text": [
      "Shape of dataframe:  (5686, 22)\n",
      "Max number of categories are:  12\n"
     ]
    }
   ],
   "source": [
    "print \"Shape of dataframe: \", data_mapped.shape\n",
    "\n",
    "# Runs thorough each element of each column to get highest categary mapping found\n",
    "max_mapped_cat = int(max(data_mapped.max())+1)\n",
    "print \"Max number of categories are: \", max_mapped_cat\n",
    "\n",
    "#plot_list = [[0] * len(data_mapped.columns)] * max_mapped_cat\n",
    "plot_list = []\n",
    "for i in range(max_mapped_cat):\n",
    "    plot_list.append([0] * len(data_mapped.columns))\n",
    "# Iterate through each element and count them\n",
    "colId = 0\n",
    "row_count = len(data_mapped.index)\n",
    "\n",
    "\n",
    "for i in range(max_mapped_cat):\n",
    "    colId = 0\n",
    "    for col in data_mapped.columns:\n",
    "        try:\n",
    "            plot_list[i][colId] = ((data_mapped[col].value_counts())[i]*100)/row_count\n",
    "        except KeyError:\n",
    "            pass\n",
    "        colId += 1\n",
    "        #print colId"
   ]
  },
  {
   "cell_type": "markdown",
   "metadata": {},
   "source": [
    "Prepare plot for displaying features in stacked bar graph"
   ]
  },
  {
   "cell_type": "code",
   "execution_count": 323,
   "metadata": {
    "collapsed": true
   },
   "outputs": [],
   "source": [
    "N = len(data_mapped.columns)\n",
    "ind = np.arange(N)\n",
    "width = 0.5\n",
    "p = []\n",
    "\n",
    "# Generates list of random hex color string\n",
    "def r():\n",
    "    return random.randint(0,255)\n",
    "\n",
    "plot_colors = [('#%02X%02X%02X' % (r(),r(),r())) for i in range(max_mapped_cat)]\n",
    "\n",
    "bottom_list = [0]*len(plot_list[0])\n",
    "for i in range(max_mapped_cat):\n",
    "    p.append(plt.bar(ind, plot_list[i], width, color=plot_colors[i], bottom=bottom_list))\n",
    "    #print len(plot_list[i])\n",
    "    for k in range(len(plot_list[i])):\n",
    "        bottom_list[k] += plot_list[i][k]"
   ]
  },
  {
   "cell_type": "markdown",
   "metadata": {},
   "source": [
    "## Plot category percent of each categorical var"
   ]
  },
  {
   "cell_type": "code",
   "execution_count": 324,
   "metadata": {
    "collapsed": false
   },
   "outputs": [
    {
     "data": {
      "image/png": "[encoded data removed]",
      "text/plain": [
       "<matplotlib.figure.Figure at 0x7eff13289390>"
      ]
     },
     "metadata": {},
     "output_type": "display_data"
    }
   ],
   "source": [
    "plt.rcParams[\"figure.figsize\"] = [16, 8]\n",
    "plt.ylabel('% of total occurence')\n",
    "plt.xlabel('Feature #')\n",
    "plt.title('Distribution of category with feature')\n",
    "\n",
    "plt.show()"
   ]
  },
  {
   "cell_type": "markdown",
   "metadata": {},
   "source": [
    "## Transforming categorical data\n",
    "Convert all categorical data to dummy features"
   ]
  },
  {
   "cell_type": "code",
   "execution_count": 325,
   "metadata": {
    "collapsed": false,
    "scrolled": true
   },
   "outputs": [
    {
     "name": "stdout",
     "output_type": "stream",
     "text": [
      "(5686, 24)\n",
      "(2438, 23)\n",
      "(5686, 24)\n",
      "(2438, 24)\n"
     ]
    },
    {
     "data": {
      "text/plain": [
       "(8124, 24)"
      ]
     },
     "execution_count": 325,
     "metadata": {},
     "output_type": "execute_result"
    }
   ],
   "source": [
    "print data.shape\n",
    "print data_predict.shape\n",
    "\n",
    "try:\n",
    "    data_predict.insert(loc=0, column='class', value=pd.Series(['p']*len(data_predict.index)))\n",
    "except:\n",
    "    pass\n",
    "print data.shape\n",
    "print data_predict.shape\n",
    "\n",
    "concated_df = pd.concat([data, data_predict])\n",
    "concated_df.shape"
   ]
  },
  {
   "cell_type": "code",
   "execution_count": 326,
   "metadata": {
    "collapsed": false,
    "scrolled": true
   },
   "outputs": [
    {
     "name": "stdout",
     "output_type": "stream",
     "text": [
      "(5686, 116)\n",
      "(2438, 116)\n"
     ]
    }
   ],
   "source": [
    "concated_df = pd.get_dummies(concated_df)\n",
    "\n",
    "data = concated_df.head(data.shape[0]).copy()\n",
    "data_predict = concated_df.tail(concated_df.shape[0] - data.shape[0]).copy()\n",
    "\n",
    "print data.shape\n",
    "print data_predict.shape"
   ]
  },
  {
   "cell_type": "markdown",
   "metadata": {},
   "source": [
    "Split test and train dataset using default configuration"
   ]
  },
  {
   "cell_type": "code",
   "execution_count": 327,
   "metadata": {
    "collapsed": false
   },
   "outputs": [],
   "source": [
    "X = data.drop(\"class_p\",axis=1).drop(\"class_e\", axis=1)\n",
    "y = data['class_p']\n",
    "X_train, X_test, y_train, y_test = train_test_split(X, y)"
   ]
  },
  {
   "cell_type": "markdown",
   "metadata": {},
   "source": [
    "## Training model\n",
    "Uses Random forrest ensemble to train model since input data contains both categorical and continuos data"
   ]
  },
  {
   "cell_type": "code",
   "execution_count": 328,
   "metadata": {
    "collapsed": false
   },
   "outputs": [
    {
     "name": "stderr",
     "output_type": "stream",
     "text": [
      "[Parallel(n_jobs=-1)]: Done  42 tasks      | elapsed:    0.2s\n",
      "[Parallel(n_jobs=-1)]: Done 100 out of 100 | elapsed:    0.5s finished\n"
     ]
    },
    {
     "data": {
      "text/plain": [
       "RandomForestRegressor(bootstrap=True, criterion='mse', max_depth=None,\n",
       "           max_features='auto', max_leaf_nodes=None,\n",
       "           min_impurity_split=1e-07, min_samples_leaf=1,\n",
       "           min_samples_split=2, min_weight_fraction_leaf=0.0,\n",
       "           n_estimators=100, n_jobs=-1, oob_score=False, random_state=None,\n",
       "           verbose=True, warm_start=False)"
      ]
     },
     "execution_count": 328,
     "metadata": {},
     "output_type": "execute_result"
    }
   ],
   "source": [
    "rf = RandomForestRegressor(n_estimators=100, verbose=True, n_jobs=-1)\n",
    "rf.fit(X_train, y_train)"
   ]
  },
  {
   "cell_type": "markdown",
   "metadata": {},
   "source": [
    "## Test\n",
    "Predict using the model on test dataset"
   ]
  },
  {
   "cell_type": "code",
   "execution_count": 329,
   "metadata": {
    "collapsed": false
   },
   "outputs": [
    {
     "name": "stderr",
     "output_type": "stream",
     "text": [
      "[Parallel(n_jobs=4)]: Done  42 tasks      | elapsed:    0.1s\n",
      "[Parallel(n_jobs=4)]: Done 100 out of 100 | elapsed:    0.3s finished\n"
     ]
    }
   ],
   "source": [
    "predictions_test = rf.predict(X_test)"
   ]
  },
  {
   "cell_type": "markdown",
   "metadata": {},
   "source": [
    "## Accuracy"
   ]
  },
  {
   "cell_type": "markdown",
   "metadata": {},
   "source": [
    "Verify data types"
   ]
  },
  {
   "cell_type": "code",
   "execution_count": 330,
   "metadata": {
    "collapsed": false
   },
   "outputs": [
    {
     "name": "stdout",
     "output_type": "stream",
     "text": [
      "<type 'numpy.ndarray'>\n",
      "<type 'numpy.ndarray'>\n"
     ]
    }
   ],
   "source": [
    "predictions_test = predictions_test.astype(np.uint8, copy=False)\n",
    "y_test_ndarray = y_test.values\n",
    "print type(predictions_test)\n",
    "print type(y_test_ndarray)"
   ]
  },
  {
   "cell_type": "code",
   "execution_count": 331,
   "metadata": {
    "collapsed": false
   },
   "outputs": [
    {
     "name": "stdout",
     "output_type": "stream",
     "text": [
      "Accuracy: 99.6483825598%\n"
     ]
    }
   ],
   "source": [
    "from sklearn.metrics import accuracy_score\n",
    "print \"Accuracy: \" + str(accuracy_score(y_test.values, predictions_test)*100) + \"%\""
   ]
  },
  {
   "cell_type": "markdown",
   "metadata": {},
   "source": [
    "# Predictions"
   ]
  },
  {
   "cell_type": "code",
   "execution_count": 332,
   "metadata": {
    "collapsed": false
   },
   "outputs": [
    {
     "name": "stderr",
     "output_type": "stream",
     "text": [
      "[Parallel(n_jobs=4)]: Done  42 tasks      | elapsed:    0.1s\n",
      "[Parallel(n_jobs=4)]: Done 100 out of 100 | elapsed:    0.1s finished\n"
     ]
    }
   ],
   "source": [
    "# Remove extra class added earlier to prediction dataset\n",
    "del data_predict['class_e']\n",
    "del data_predict['class_p']\n",
    "\n",
    "predictions = rf.predict(data_predict)"
   ]
  },
  {
   "cell_type": "markdown",
   "metadata": {},
   "source": [
    "Write to file"
   ]
  },
  {
   "cell_type": "code",
   "execution_count": 333,
   "metadata": {
    "collapsed": false
   },
   "outputs": [],
   "source": [
    "np.savetxt(\"predictions.csv\", predictions.astype(int, copy=True), fmt='%d', delimiter=\"\\n\")"
   ]
  }
 ],
 "metadata": {
  "kernelspec": {
   "display_name": "k_means",
   "language": "python",
   "name": "k_means"
  },
  "language_info": {
   "codemirror_mode": {
    "name": "ipython",
    "version": 2
   },
   "file_extension": ".py",
   "mimetype": "text/x-python",
   "name": "python",
   "nbconvert_exporter": "python",
   "pygments_lexer": "ipython2",
   "version": "2.7.13"
  }
 },
 "nbformat": 4,
 "nbformat_minor": 2
}
